{
 "cells": [
  {
   "cell_type": "code",
   "execution_count": 8,
   "id": "899057a4-de88-47d5-a001-e25c100d816c",
   "metadata": {},
   "outputs": [
    {
     "name": "stdout",
     "output_type": "stream",
     "text": [
      "\n",
      "\n",
      "\n",
      "imagem \n",
      "\n",
      "Temos a seguinte classe que representa um usuário no nosso sistema:\n",
      "\n",
      "java\n",
      "\n",
      "Para salvar um novo usuário, várias validações são feitas, como por exemplo: Ver se o nome só contém letras, [**o CPF só números**] e ver se o usuário possui no mínimo 18 anos. Veja o método que faz essa validação:\n",
      "\n",
      "java \n",
      "\n",
      "Suponha agora que eu tenha outra classe, a classe `Produto`, que contém um atributo nome e eu quero fazer a mesma validação que fiz para o nome do usuário: Ver se só contém letras. E aí? Vou\n"
     ]
    }
   ],
   "source": [
    "with open(\"artigos.txt\", \"r\", encoding=\"utf8\") as f:\n",
    "    artigos = f.read()\n",
    "print(artigos[:500])"
   ]
  },
  {
   "cell_type": "code",
   "execution_count": 10,
   "id": "9d6a0156-b358-4484-8873-a760194ef85f",
   "metadata": {},
   "outputs": [
    {
     "data": {
      "text/plain": [
       "416903"
      ]
     },
     "execution_count": 10,
     "metadata": {},
     "output_type": "execute_result"
    }
   ],
   "source": [
    "len(artigos.split())"
   ]
  },
  {
   "cell_type": "code",
   "execution_count": 12,
   "id": "5ac5600e-adcb-4992-be27-2da13dbdb490",
   "metadata": {},
   "outputs": [
    {
     "name": "stderr",
     "output_type": "stream",
     "text": [
      "[nltk_data] Downloading package punkt to C:\\Users\\Jose\n",
      "[nltk_data]     Eduardo\\AppData\\Roaming\\nltk_data...\n",
      "[nltk_data]   Unzipping tokenizers\\punkt.zip.\n"
     ]
    },
    {
     "data": {
      "text/plain": [
       "True"
      ]
     },
     "execution_count": 12,
     "metadata": {},
     "output_type": "execute_result"
    }
   ],
   "source": [
    "import nltk\n",
    "nltk.download('punkt')"
   ]
  },
  {
   "cell_type": "code",
   "execution_count": 41,
   "id": "fc77e5d8-b565-4f8c-a4a4-ea824e464ca5",
   "metadata": {},
   "outputs": [],
   "source": [
    "palavras_separadas_artigo = nltk.tokenize.word_tokenize(artigos)"
   ]
  },
  {
   "cell_type": "code",
   "execution_count": 42,
   "id": "594e96aa-ed52-4b16-b5cd-dab1390251d1",
   "metadata": {},
   "outputs": [
    {
     "data": {
      "text/plain": [
       "515827"
      ]
     },
     "execution_count": 42,
     "metadata": {},
     "output_type": "execute_result"
    }
   ],
   "source": [
    "len(palavras_separadas_artigo)"
   ]
  },
  {
   "cell_type": "code",
   "execution_count": 43,
   "id": "c173703e-024b-4eed-940a-469ef0022b63",
   "metadata": {},
   "outputs": [],
   "source": [
    "def separa_palavras(lista_tokens):\n",
    "    lista_palavras = []\n",
    "    for token in lista_tokens:\n",
    "        if token.isalpha():\n",
    "            lista_palavras.append(token)\n",
    "    return lista_palavras"
   ]
  },
  {
   "cell_type": "code",
   "execution_count": 44,
   "id": "c7d15daf-fb26-4924-acfc-2fca0c02eb20",
   "metadata": {},
   "outputs": [],
   "source": [
    "lista_de_palavras = 'Olá, tudo bem?'"
   ]
  },
  {
   "cell_type": "code",
   "execution_count": 45,
   "id": "e1953830-4e34-458c-b4b2-61b082d3c9b2",
   "metadata": {},
   "outputs": [],
   "source": [
    "lista_de_palavras1 = nltk.tokenize.word_tokenize(lista_de_palavras)"
   ]
  },
  {
   "cell_type": "code",
   "execution_count": 46,
   "id": "8d72b39a-8732-4ffe-ba5e-30bbcdf01f6a",
   "metadata": {},
   "outputs": [
    {
     "data": {
      "text/plain": [
       "['Olá', ',', 'tudo', 'bem', '?']"
      ]
     },
     "execution_count": 46,
     "metadata": {},
     "output_type": "execute_result"
    }
   ],
   "source": [
    "lista_de_palavras1"
   ]
  },
  {
   "cell_type": "code",
   "execution_count": 47,
   "id": "da5dcbb0-ea66-426f-81aa-fffcf20e670c",
   "metadata": {},
   "outputs": [
    {
     "data": {
      "text/plain": [
       "['Olá', 'tudo', 'bem']"
      ]
     },
     "execution_count": 47,
     "metadata": {},
     "output_type": "execute_result"
    }
   ],
   "source": [
    "separa_palavras(lista_de_palavras1)"
   ]
  },
  {
   "cell_type": "code",
   "execution_count": 61,
   "id": "f866d59a-fc6c-49d9-99ed-5e828439cd65",
   "metadata": {},
   "outputs": [],
   "source": [
    "lista_palavras_artigo = separa_palavras(palavras_separadas_artigo) "
   ]
  },
  {
   "cell_type": "code",
   "execution_count": 62,
   "id": "98e6f70c-ced1-40fe-9fe5-cd89919ead8b",
   "metadata": {},
   "outputs": [
    {
     "data": {
      "text/plain": [
       "403031"
      ]
     },
     "execution_count": 62,
     "metadata": {},
     "output_type": "execute_result"
    }
   ],
   "source": [
    "len(lista_palavras_artigo)"
   ]
  },
  {
   "cell_type": "code",
   "execution_count": 64,
   "id": "96b2d055-a782-4e8b-8f43-a021af79a37b",
   "metadata": {},
   "outputs": [
    {
     "data": {
      "text/plain": [
       "['imagem',\n",
       " 'Temos',\n",
       " 'a',\n",
       " 'seguinte',\n",
       " 'classe',\n",
       " 'que',\n",
       " 'representa',\n",
       " 'um',\n",
       " 'usuário',\n",
       " 'no']"
      ]
     },
     "execution_count": 64,
     "metadata": {},
     "output_type": "execute_result"
    }
   ],
   "source": [
    "lista_palavras_artigo[0:10]"
   ]
  },
  {
   "cell_type": "code",
   "execution_count": 79,
   "id": "0c46b40e-a682-42d8-969c-0d54d0e68f36",
   "metadata": {},
   "outputs": [],
   "source": [
    "def normalizacao(lista):\n",
    "    lista_normalizada = []\n",
    "    for palavra in lista:\n",
    "        lista_normalizada.append(palavra.lower())\n",
    "    return lista_normalizada"
   ]
  },
  {
   "cell_type": "code",
   "execution_count": 80,
   "id": "594740fc-785f-4158-b70e-bb7b7818450b",
   "metadata": {},
   "outputs": [],
   "source": [
    "lista_normalizada = normalizacao(lista_palavras_artigo)"
   ]
  },
  {
   "cell_type": "code",
   "execution_count": 82,
   "id": "d352aec9-2013-420a-bb9c-f97e841c412b",
   "metadata": {},
   "outputs": [
    {
     "data": {
      "text/plain": [
       "['imagem', 'temos', 'a']"
      ]
     },
     "execution_count": 82,
     "metadata": {},
     "output_type": "execute_result"
    }
   ],
   "source": [
    "lista_normalizada[:3]"
   ]
  },
  {
   "cell_type": "code",
   "execution_count": 84,
   "id": "45b8e481-bb4a-4dbf-b9a1-20ebbc98bccb",
   "metadata": {},
   "outputs": [],
   "source": [
    "lista_normalizada_sem_repeticao = set(lista_normalizada)"
   ]
  },
  {
   "cell_type": "code",
   "execution_count": 85,
   "id": "0def2107-a394-4832-abd0-f1887cef869f",
   "metadata": {},
   "outputs": [
    {
     "data": {
      "text/plain": [
       "18464"
      ]
     },
     "execution_count": 85,
     "metadata": {},
     "output_type": "execute_result"
    }
   ],
   "source": [
    "len(lista_normalizada_sem_repeticao)"
   ]
  },
  {
   "cell_type": "code",
   "execution_count": null,
   "id": "827082f8-5e4c-42cf-b394-57de31f599a9",
   "metadata": {},
   "outputs": [],
   "source": []
  }
 ],
 "metadata": {
  "kernelspec": {
   "display_name": "Python 3 (ipykernel)",
   "language": "python",
   "name": "python3"
  },
  "language_info": {
   "codemirror_mode": {
    "name": "ipython",
    "version": 3
   },
   "file_extension": ".py",
   "mimetype": "text/x-python",
   "name": "python",
   "nbconvert_exporter": "python",
   "pygments_lexer": "ipython3",
   "version": "3.10.5"
  }
 },
 "nbformat": 4,
 "nbformat_minor": 5
}
